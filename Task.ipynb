{
 "cells": [
  {
   "cell_type": "markdown",
   "id": "5ab220d3",
   "metadata": {},
   "source": [
    "## Required functions to operate program"
   ]
  },
  {
   "cell_type": "code",
   "execution_count": 10,
   "id": "ffeae838",
   "metadata": {},
   "outputs": [],
   "source": [
    "import datetime\n",
    "\n",
    "# Function to calculate the check digit for the frequent parking number\n",
    "def calculate_check_digit(number):\n",
    "    check_sum = sum(int(digit) * (i % 10 + 1) for i, digit in enumerate(reversed(number)))\n",
    "    check_digit = (check_sum % 11) % 10\n",
    "    return check_digit\n",
    "\n",
    "# Function to calculate parking fee based on arrival time, departure time, and day\n",
    "def calculate_parking_fee(arrival_time, departure_time, day):\n",
    "    # Convert time strings to datetime objects\n",
    "    arrival = datetime.datetime.strptime(arrival_time, '%H:%M')\n",
    "    departure = datetime.datetime.strptime(departure_time, '%H:%M')\n",
    "    \n",
    "    # Calculate parking duration in hours\n",
    "    duration = (departure - arrival).total_seconds() / 3600\n",
    "    \n",
    "    # Define parking fee schedule\n",
    "    fees = {\n",
    "        'Sunday': {'before_16': 2.00, 'after_16': 3.00},\n",
    "        'Monday': {'before_16': 10.00, 'after_16': 2.00},\n",
    "        'Tuesday': {'before_16': 10.00, 'after_16': 2.00},\n",
    "        'Wednesday': {'before_16': 10.00, 'after_16': 2.00},\n",
    "        'Thursday': {'before_16': 10.00, 'after_16': 2.00},\n",
    "        'Friday': {'before_16': 10.00, 'after_16': 2.00},\n",
    "        'Saturday': {'before_16': 3.00, 'after_16': 3.00}\n",
    "    }\n",
    "    \n",
    "    # Determine the fee based on arrival time and day\n",
    "    if arrival.time() < datetime.time(16, 0):\n",
    "        fee = fees[day]['before_16']\n",
    "    else:\n",
    "        fee = fees[day]['after_16']\n",
    "    \n",
    "    # Apply discount for arrival times from 16:00 to midnight\n",
    "    if arrival.time() >= datetime.time(16, 0):\n",
    "        fee *= 0.5\n",
    "    \n",
    "    # Calculate total fee\n",
    "    total_fee = fee * duration\n",
    "    \n",
    "    return total_fee"
   ]
  },
  {
   "cell_type": "markdown",
   "id": "dd10c95a",
   "metadata": {},
   "source": [
    "## Main Program"
   ]
  },
  {
   "cell_type": "code",
   "execution_count": null,
   "id": "d64e4704",
   "metadata": {},
   "outputs": [
    {
     "name": "stdout",
     "output_type": "stream",
     "text": [
      "Enter frequent parking number (5 digits): 12349\n",
      "Enter arrival time (HH:MM): 1:50\n",
      "Enter departure time (HH:MM): 9:00\n",
      "Enter day of the week: Saturday\n",
      "Parking fee: 21.5\n"
     ]
    }
   ],
   "source": [
    "# Main program\n",
    "daily_total_payments = 0\n",
    "\n",
    "# Loop for multiple parking transactions in a day\n",
    "while True:\n",
    "    # Input data\n",
    "    frequent_parking_number = input(\"Enter frequent parking number (5 digits): \")\n",
    "    if len(frequent_parking_number) != 5 or not frequent_parking_number.isdigit():\n",
    "        print(\"Error: Frequent parking number must be 5 digits.\")\n",
    "        continue\n",
    "    check_digit = calculate_check_digit(frequent_parking_number[:-1])\n",
    "    if int(frequent_parking_number[-1]) != check_digit:\n",
    "        print(\"Error: Invalid frequent parking number.\")\n",
    "        continue\n",
    "    \n",
    "    arrival_time = input(\"Enter arrival time (HH:MM): \")\n",
    "    departure_time = input(\"Enter departure time (HH:MM): \")\n",
    "    day = input(\"Enter day of the week: \")\n",
    "    \n",
    "    # Validate input (for simplicity, only basic validation is performed)\n",
    "    if not arrival_time or not departure_time or not day:\n",
    "        print(\"Error: Please provide all input data.\")\n",
    "        continue\n",
    "    elif not arrival_time.strip() or not departure_time.strip() or not day.strip():\n",
    "        print(\"Error: Input cannot be empty.\")\n",
    "        continue\n",
    "    \n",
    "    # Calculate and display parking fee\n",
    "    try:\n",
    "        fee = calculate_parking_fee(arrival_time, departure_time, day)\n",
    "        print(\"Parking fee:\", fee)\n",
    "        daily_total_payments += fee\n",
    "    except ValueError:\n",
    "        print(\"Error: Invalid time format. Please use HH:MM format.\")\n",
    "    \n",
    "    # Ask if another transaction needs to be processed\n",
    "    another_transaction = input(\"Do you want to process another transaction? (yes/no): \")\n",
    "    if another_transaction.lower() != 'yes':\n",
    "        break\n",
    "\n",
    "# Display daily total payments\n",
    "print(\"Daily total payments:\", daily_total_payments)"
   ]
  },
  {
   "cell_type": "code",
   "execution_count": null,
   "id": "086e5903",
   "metadata": {},
   "outputs": [],
   "source": []
  }
 ],
 "metadata": {
  "kernelspec": {
   "display_name": "Python 3 (ipykernel)",
   "language": "python",
   "name": "python3"
  },
  "language_info": {
   "codemirror_mode": {
    "name": "ipython",
    "version": 3
   },
   "file_extension": ".py",
   "mimetype": "text/x-python",
   "name": "python",
   "nbconvert_exporter": "python",
   "pygments_lexer": "ipython3",
   "version": "3.11.4"
  }
 },
 "nbformat": 4,
 "nbformat_minor": 5
}
